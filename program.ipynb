{
 "cells": [
  {
   "attachments": {},
   "cell_type": "markdown",
   "metadata": {},
   "source": [
    "# Driver Drowsiness Detection System\n",
    "- Requirment :\n",
    "    - OpenCV : for gathering the images from webcam and feed them into deep learning\n",
    "    - will clasiffy the eye open or closed (detect per timers )\n",
    "- Step :\n",
    "    - Step 1 – Take image as input from a camera.\n",
    "\n",
    "    - Step 2 – Detect the face in the image and create a Region of Interest (ROI).\n",
    "\n",
    "    - Step 3 – Detect the eyes from ROI and feed it to the classifier.\n",
    "\n",
    "    - Step 4 – Classifier will categorize whether eyes are open or closed.\n",
    "\n",
    "    - Step 5 – Calculate score to check whether the person is drowsy."
   ]
  },
  {
   "cell_type": "code",
   "execution_count": null,
   "metadata": {},
   "outputs": [],
   "source": [
    "import ope"
   ]
  }
 ],
 "metadata": {
  "language_info": {
   "name": "python"
  },
  "orig_nbformat": 4
 },
 "nbformat": 4,
 "nbformat_minor": 2
}
